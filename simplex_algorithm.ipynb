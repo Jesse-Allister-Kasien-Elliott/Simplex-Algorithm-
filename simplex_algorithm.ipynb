{
  "nbformat": 4,
  "nbformat_minor": 0,
  "metadata": {
    "colab": {
      "provenance": [],
      "authorship_tag": "ABX9TyMYXXBhb4i4hpKvqZuGtitZ",
      "include_colab_link": true
    },
    "kernelspec": {
      "name": "python3",
      "display_name": "Python 3"
    },
    "language_info": {
      "name": "python"
    }
  },
  "cells": [
    {
      "cell_type": "markdown",
      "metadata": {
        "id": "view-in-github",
        "colab_type": "text"
      },
      "source": [
        "<a href=\"https://colab.research.google.com/github/Jesse-Allister-Kasien-Elliott/Simplex-Algorithm-/blob/master/simplex_algorithm.ipynb\" target=\"_parent\"><img src=\"https://colab.research.google.com/assets/colab-badge.svg\" alt=\"Open In Colab\"/></a>"
      ]
    },
    {
      "cell_type": "code",
      "execution_count": 2,
      "metadata": {
        "id": "EZaAUgL-3pG-",
        "colab": {
          "base_uri": "https://localhost:8080/"
        },
        "outputId": "fa0afec2-a4d9-4fd1-f559-98fdac15a393"
      },
      "outputs": [
        {
          "output_type": "stream",
          "name": "stdout",
          "text": [
            "Status: Optimal\n",
            "Solution:\n",
            "[[0.]\n",
            " [1.]\n",
            " [0.]\n",
            " [3.]]\n"
          ]
        }
      ],
      "source": [
        "# Simplex Algorithm Implementation in Python (for Google Colab)\n",
        "# --------------------------------------------------------------\n",
        "# This script implements the Simplex algorithm for solving linear programming problems\n",
        "# in standard form: maximize c^T x subject to Ax = b, x >= 0.\n",
        "\n",
        "import numpy as np\n",
        "\n",
        "def simplex(c, A, b, BAS):\n",
        "    m, n = A.shape\n",
        "\n",
        "    # Compute non-basic variables N\n",
        "    N = []\n",
        "    for i in range(n):\n",
        "        if i not in BAS:\n",
        "            N.append(i)\n",
        "\n",
        "    # Extract cB and cN\n",
        "    cB = np.array([c[i] for i in BAS]).reshape(-1, 1)\n",
        "    cN = np.array([c[i] for i in N]).reshape(-1, 1)\n",
        "\n",
        "    # Extract AB and AN\n",
        "    AB = A[:, BAS]\n",
        "    AN = A[:, N]\n",
        "\n",
        "    ABinv = np.linalg.inv(AB)\n",
        "    xB = ABinv @ b\n",
        "    xN = np.zeros((n - m, 1))\n",
        "\n",
        "    # Main Simplex loop\n",
        "    cBarT = cN.T - (cB.T @ ABinv @ AN)\n",
        "\n",
        "    while np.any(cBarT > 0):\n",
        "        # Find entering variable j\n",
        "        entering_indices = np.where(cBarT > 0)[1]\n",
        "        k = entering_indices[0]\n",
        "        j = N[k]\n",
        "\n",
        "        # Determine direction dB\n",
        "        dB = -ABinv @ A[:, j]\n",
        "\n",
        "        # Check for unboundedness\n",
        "        if np.all(dB >= 0):\n",
        "            print(\"UNBOUNDED\")\n",
        "            return 1, dB\n",
        "\n",
        "        # Determine leaving variable\n",
        "        theta_vec = -xB.flatten() / dB.flatten()\n",
        "        valid_indices = np.where(dB < 0)[0]\n",
        "        theta_vec = theta_vec[valid_indices]\n",
        "        l_index = valid_indices[np.argmin(theta_vec)]\n",
        "        l = BAS[l_index]\n",
        "\n",
        "        # Pivot step: update basis\n",
        "        BAS[l_index] = j\n",
        "        N[k] = l\n",
        "        BAS.sort()\n",
        "        N.sort()\n",
        "\n",
        "        # Update matrices and vectors\n",
        "        cB = np.array([c[i] for i in BAS]).reshape(-1, 1)\n",
        "        cN = np.array([c[i] for i in N]).reshape(-1, 1)\n",
        "        AB = A[:, BAS]\n",
        "        AN = A[:, N]\n",
        "        ABinv = np.linalg.inv(AB)\n",
        "        xB = ABinv @ b\n",
        "        xN = np.zeros((n - m, 1))\n",
        "        cBarT = cN.T - (cB.T @ ABinv @ AN)\n",
        "\n",
        "    # Construct full solution\n",
        "    x = np.zeros((n, 1))\n",
        "    for i, idx in enumerate(BAS):\n",
        "        x[idx] = xB[i]\n",
        "    for idx in N:\n",
        "        x[idx] = 0\n",
        "\n",
        "    return 0, x\n",
        "\n",
        "# Example 1 (bounded)\n",
        "c = np.array([1, 4, 0, 0])\n",
        "A = np.array([[1, 2, 1, 0],\n",
        "              [1, 1, 0, 1]])\n",
        "b = np.array([[2], [4]])\n",
        "BAS = [0, 3]  # Using 0-based indexing in Python\n",
        "\n",
        "status, solution = simplex(c, A, b, BAS)\n",
        "\n",
        "print(\"Status:\", \"Optimal\" if status == 0 else \"Unbounded\")\n",
        "print(\"Solution:\")\n",
        "print(solution)\n"
      ]
    }
  ]
}